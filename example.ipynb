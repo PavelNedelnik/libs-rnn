{
 "cells": [
  {
   "cell_type": "code",
   "execution_count": 1,
   "metadata": {},
   "outputs": [],
   "source": [
    "import numpy as np\n",
    "import h5py"
   ]
  },
  {
   "cell_type": "code",
   "execution_count": 5,
   "metadata": {},
   "outputs": [
    {
     "name": "stderr",
     "output_type": "stream",
     "text": [
      "100%|██████████| 12/12 [01:55<00:00,  9.64s/it]\n"
     ]
    }
   ],
   "source": [
    "from src.load_script import load_contest_train_dataset\n",
    "from sklearn.model_selection import train_test_split\n",
    "\n",
    "if True:\n",
    "    X, y, samples = load_contest_train_dataset('datasets/contest_TRAIN.h5', 10)\n",
    "    wavelengths = X.columns\n",
    "\n",
    "    X_train, X_test, y_train, y_test = train_test_split(X, y, test_size=0.33, random_state=42, stratify=samples)\n",
    "    del X, y, samples\n",
    "else:\n",
    "    X_train = np.load(open('datasets/x_train.npy', 'rb'))\n",
    "    y_train = np.load(open('datasets/y_train.npy', 'rb'))\n",
    "    X_test = np.load(open('datasets/x_test.npy', 'rb'))\n",
    "    y_test = np.load(open('datasets/y_test.npy', 'rb'))\n",
    "    wavelengths = np.load(open('datasets/wavelengths.npy', 'rb'))"
   ]
  },
  {
   "cell_type": "code",
   "execution_count": 6,
   "metadata": {},
   "outputs": [],
   "source": []
  },
  {
   "cell_type": "code",
   "execution_count": 7,
   "metadata": {},
   "outputs": [
    {
     "name": "stdout",
     "output_type": "stream",
     "text": [
      "euclid\n",
      "              precision    recall  f1-score   support\n",
      "\n",
      "           1       0.46      0.86      0.60        29\n",
      "           2       0.62      0.69      0.65        49\n",
      "           3       0.70      0.47      0.56        15\n",
      "           4       0.72      0.65      0.68        20\n",
      "           5       0.71      0.74      0.72        23\n",
      "           6       1.00      0.86      0.92        28\n",
      "           7       0.73      0.47      0.57        17\n",
      "           8       0.79      0.68      0.73        22\n",
      "           9       0.76      0.90      0.82        49\n",
      "          10       0.77      0.62      0.69        16\n",
      "          11       0.83      0.69      0.75        42\n",
      "          12       1.00      0.45      0.62        20\n",
      "\n",
      "    accuracy                           0.71       330\n",
      "   macro avg       0.76      0.67      0.69       330\n",
      "weighted avg       0.75      0.71      0.71       330\n",
      "\n",
      "================================================================================\n",
      "cosine\n"
     ]
    },
    {
     "name": "stderr",
     "output_type": "stream",
     "text": [
      "c:\\Users\\Pavel\\Desktop\\git\\libs-metrics\\.venv\\lib\\site-packages\\sklearn\\metrics\\_classification.py:1334: UndefinedMetricWarning: Precision and F-score are ill-defined and being set to 0.0 in labels with no predicted samples. Use `zero_division` parameter to control this behavior.\n",
      "  _warn_prf(average, modifier, msg_start, len(result))\n",
      "c:\\Users\\Pavel\\Desktop\\git\\libs-metrics\\.venv\\lib\\site-packages\\sklearn\\metrics\\_classification.py:1334: UndefinedMetricWarning: Precision and F-score are ill-defined and being set to 0.0 in labels with no predicted samples. Use `zero_division` parameter to control this behavior.\n",
      "  _warn_prf(average, modifier, msg_start, len(result))\n",
      "c:\\Users\\Pavel\\Desktop\\git\\libs-metrics\\.venv\\lib\\site-packages\\sklearn\\metrics\\_classification.py:1334: UndefinedMetricWarning: Precision and F-score are ill-defined and being set to 0.0 in labels with no predicted samples. Use `zero_division` parameter to control this behavior.\n",
      "  _warn_prf(average, modifier, msg_start, len(result))\n"
     ]
    },
    {
     "name": "stdout",
     "output_type": "stream",
     "text": [
      "              precision    recall  f1-score   support\n",
      "\n",
      "           1       0.57      0.86      0.68        29\n",
      "           2       0.67      0.82      0.73        49\n",
      "           3       0.60      0.80      0.69        15\n",
      "           4       0.80      0.80      0.80        20\n",
      "           5       0.64      0.91      0.75        23\n",
      "           6       1.00      0.86      0.92        28\n",
      "           7       0.00      0.00      0.00        17\n",
      "           8       1.00      0.50      0.67        22\n",
      "           9       0.85      0.90      0.87        49\n",
      "          10       0.86      0.75      0.80        16\n",
      "          11       0.89      0.79      0.84        42\n",
      "          12       1.00      0.75      0.86        20\n",
      "\n",
      "    accuracy                           0.77       330\n",
      "   macro avg       0.74      0.73      0.72       330\n",
      "weighted avg       0.76      0.77      0.75       330\n",
      "\n",
      "================================================================================\n",
      "mutual_information\n",
      "              precision    recall  f1-score   support\n",
      "\n",
      "           1       0.49      0.76      0.59        29\n",
      "           2       0.70      0.76      0.73        49\n",
      "           3       0.31      0.53      0.39        15\n",
      "           4       0.93      0.65      0.76        20\n",
      "           5       0.70      0.61      0.65        23\n",
      "           6       1.00      1.00      1.00        28\n",
      "           7       0.29      0.12      0.17        17\n",
      "           8       0.92      0.50      0.65        22\n",
      "           9       0.73      0.88      0.80        49\n",
      "          10       0.82      0.56      0.67        16\n",
      "          11       0.78      0.67      0.72        42\n",
      "          12       0.79      0.75      0.77        20\n",
      "\n",
      "    accuracy                           0.70       330\n",
      "   macro avg       0.70      0.65      0.66       330\n",
      "weighted avg       0.72      0.70      0.69       330\n",
      "\n",
      "================================================================================\n"
     ]
    }
   ],
   "source": [
    "from sklearn.metrics import classification_report\n",
    "for model, model_name in zip([], ['euclid', 'cosine', 'mutual_information']):\n",
    "    print(model_name, sep=', best params were: ')\n",
    "    print(classification_report(y_test, model.predict(X_test)))\n",
    "    print('=' * 80)"
   ]
  }
 ],
 "metadata": {
  "kernelspec": {
   "display_name": "Python 3.10.7 ('.venv': venv)",
   "language": "python",
   "name": "python3"
  },
  "language_info": {
   "codemirror_mode": {
    "name": "ipython",
    "version": 3
   },
   "file_extension": ".py",
   "mimetype": "text/x-python",
   "name": "python",
   "nbconvert_exporter": "python",
   "pygments_lexer": "ipython3",
   "version": "3.10.7"
  },
  "orig_nbformat": 4,
  "vscode": {
   "interpreter": {
    "hash": "ad90a14a32c32d4ba756f8759499d9bc0da639f81635e6fe72a7188422a202ae"
   }
  }
 },
 "nbformat": 4,
 "nbformat_minor": 2
}
