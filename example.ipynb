{
 "cells": [
  {
   "cell_type": "code",
   "execution_count": null,
   "metadata": {},
   "outputs": [],
   "source": [
    "import numpy as np\n",
    "import h5py"
   ]
  },
  {
   "cell_type": "code",
   "execution_count": null,
   "metadata": {},
   "outputs": [],
   "source": [
    "from src.load_script import load_contest_train_dataset\n",
    "from sklearn.model_selection import train_test_split\n",
    "from sklearn.preprocessing import RobustScaler\n",
    "from keras.utils import to_categorical\n",
    "import joblib\n",
    "\n",
    "save_to_cache = False\n",
    "load_from_cache = True\n",
    "\n",
    "if not load_from_cache:\n",
    "    X, y, samples = load_contest_train_dataset('datasets/contest_TRAIN.h5', 100)\n",
    "    wavelengths = X.columns\n",
    "\n",
    "    X_train, X_test, y_train, y_test = train_test_split(X, y, test_size=0.33, random_state=42, stratify=samples)\n",
    "    del X, y, samples\n",
    "    \n",
    "    pipe = RobustScaler()\n",
    "\n",
    "    X_train = pipe.fit_transform(X_train)\n",
    "    X_test = pipe.transform(X_test)\n",
    "\n",
    "    y_train, y_test = to_categorical(y_train), to_categorical(y_test)\n",
    "\n",
    "    if save_to_cache:\n",
    "        joblib.dump(pipe, 'models/preprocessing_pipeline.pkl')\n",
    "        np.save(open('datasets/x_train.npy', 'wb'), X_train)\n",
    "        np.save(open('datasets/y_train.npy', 'wb'), y_train)\n",
    "        np.save(open('datasets/x_test.npy', 'wb'), X_test)\n",
    "        np.save(open('datasets/y_test.npy', 'wb'), y_test)\n",
    "        np.save(open('datasets/wavelengths.npy', 'wb'), wavelengths)\n",
    "else:\n",
    "    pipe = joblib.load('models/preprocessing_pipeline.pkl')\n",
    "    X_train = np.load(open('datasets/x_train.npy', 'rb'))\n",
    "    y_train = np.load(open('datasets/y_train.npy', 'rb'))\n",
    "    X_test = np.load(open('datasets/x_test.npy', 'rb'))\n",
    "    y_test = np.load(open('datasets/y_test.npy', 'rb'))\n",
    "    wavelengths = np.load(open('datasets/wavelengths.npy', 'rb'))"
   ]
  },
  {
   "cell_type": "code",
   "execution_count": null,
   "metadata": {},
   "outputs": [],
   "source": [
    "from src.visualization import plot_spectra\n",
    "\n",
    "plot_spectra(pipe.inverse_transform([X_train.mean(axis=0)]), calibration=wavelengths)"
   ]
  },
  {
   "cell_type": "code",
   "execution_count": null,
   "metadata": {},
   "outputs": [],
   "source": [
    "import tensorflow as tf\n",
    "\n",
    "mlp = tf.keras.Sequential([\n",
    "  tf.keras.layers.Dense(1024, activation='leaky_relu'),\n",
    "  tf.keras.layers.Dense(516, activation='leaky_relu'),\n",
    "  tf.keras.layers.Dense(y_train.shape[1], activation='sigmoid'),\n",
    "])\n",
    "\n",
    "mlp.compile(loss='mse', optimizer=\"adam\", metrics=['accuracy'])\n",
    "\n",
    "mlp.fit(X_train, y_train, batch_size=32, epochs=3, verbose=\"auto\")"
   ]
  },
  {
   "cell_type": "code",
   "execution_count": null,
   "metadata": {},
   "outputs": [],
   "source": [
    "X_train = np.reshape(X_train,(X_train.shape[0],X_train.shape[1],1))\n",
    "X_test = np.reshape(X_test,(X_test.shape[0],X_test.shape[1],1))"
   ]
  },
  {
   "cell_type": "code",
   "execution_count": null,
   "metadata": {},
   "outputs": [],
   "source": [
    "cnn = tf.keras.Sequential([\n",
    "  tf.keras.layers.Conv1D(8, 20, activation='relu'),\n",
    "  tf.keras.layers.MaxPooling1D(10),\n",
    "  tf.keras.layers.Conv1D(8, 20, activation='relu'),\n",
    "  tf.keras.layers.MaxPooling1D(10),\n",
    "  tf.keras.layers.Flatten(),\n",
    "  tf.keras.layers.Dense(y_train.shape[1], activation='sigmoid'),\n",
    "])\n",
    "\n",
    "cnn.compile(loss='mse', optimizer=\"adam\", metrics=['accuracy'])\n",
    "\n",
    "cnn.fit(X_train, y_train, batch_size=32, epochs=3, verbose=\"auto\")"
   ]
  },
  {
   "cell_type": "code",
   "execution_count": null,
   "metadata": {},
   "outputs": [],
   "source": [
    "rnn = tf.keras.Sequential([\n",
    "  tf.keras.layers.GRU(4, activation='leaky_relu'),\n",
    "  tf.keras.layers.Dense(128, activation='leaky_relu'),\n",
    "  tf.keras.layers.Dense(y_train.shape[1], activation='sigmoid'),\n",
    "])\n",
    "\n",
    "rnn.compile(loss='mse', optimizer=\"adam\", metrics=['accuracy'])\n",
    "\n",
    "rnn.fit(X_train, y_train, batch_size=32, epochs=3)"
   ]
  },
  {
   "cell_type": "code",
   "execution_count": null,
   "metadata": {},
   "outputs": [],
   "source": [
    "combination = tf.keras.Sequential([\n",
    "  tf.keras.layers.Conv1D(3, 20, activation='relu'),\n",
    "  tf.keras.layers.MaxPooling1D(2, strides=5),\n",
    "  tf.keras.layers.GRU(32),\n",
    "  tf.keras.layers.Dense(64, activation='leaky_relu'),\n",
    "  tf.keras.layers.Dense(y_train.shape[1], activation='sigmoid'),\n",
    "])\n",
    "\n",
    "combination.compile(loss='mse', optimizer=\"adam\", metrics=['accuracy'])\n",
    "\n",
    "combination.fit(X_train, y_train, batch_size=32, epochs=3)"
   ]
  },
  {
   "cell_type": "code",
   "execution_count": null,
   "metadata": {},
   "outputs": [],
   "source": [
    "\"\"\"from keras.layers import Input, Dense, GRU\n",
    "from keras.models import Model\n",
    "latent_dim = 4\n",
    "\n",
    "encoder_inputs = Input(shape=wavelengths.shape)\n",
    "encoder = GRU(latent_dim, return_state=True)\n",
    "encoder_outputs, state_h = encoder(encoder_inputs)\n",
    "\n",
    "decoder_inputs = Input(shape=(1, latent_dim))\n",
    "decoder_gru = GRU(latent_dim, return_sequences=True)\n",
    "decoder_outputs = decoder_gru(decoder_inputs, initial_state=state_h)\n",
    "decoder_dense = Dense(1, activation='softmax')\n",
    "decoder_outputs = decoder_dense(decoder_outputs)\n",
    "model = Model([encoder_inputs, decoder_inputs], decoder_outputs)\n",
    "model.compile('adam', 'mse')\n",
    "\n",
    "model.fit(X_train, y_train)\"\"\""
   ]
  },
  {
   "cell_type": "code",
   "execution_count": null,
   "metadata": {},
   "outputs": [],
   "source": []
  }
 ],
 "metadata": {
  "kernelspec": {
   "display_name": "Python 3.9.13 ('.venv': venv)",
   "language": "python",
   "name": "python3"
  },
  "language_info": {
   "codemirror_mode": {
    "name": "ipython",
    "version": 3
   },
   "file_extension": ".py",
   "mimetype": "text/x-python",
   "name": "python",
   "nbconvert_exporter": "python",
   "pygments_lexer": "ipython3",
   "version": "3.9.13"
  },
  "orig_nbformat": 4,
  "vscode": {
   "interpreter": {
    "hash": "e8a72dcc32bab57f01a7a9f4c17bebb81d2c4ad5fab5a30f15d77e8bde8e853d"
   }
  }
 },
 "nbformat": 4,
 "nbformat_minor": 2
}
